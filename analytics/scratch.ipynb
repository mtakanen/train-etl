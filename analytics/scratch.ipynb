{
 "cells": [
  {
   "cell_type": "code",
   "execution_count": 3,
   "metadata": {},
   "outputs": [],
   "source": [
    "import decimal\n",
    "import boto3\n",
    "from boto3.dynamodb.conditions import Key, Attr\n",
    "\n",
    "DEFAULT_REGION = 'eu-west-1'\n",
    "KEY_CONSTRAINT = '45-TPE'\n",
    "\n",
    "class DynamoDB(object):\n",
    "    def __init__(self, region_name):\n",
    "        self.db = boto3.resource('dynamodb', region_name=region_name)\n",
    "\n",
    "def deserialize(o):\n",
    "    if isinstance(o, decimal.Decimal):\n",
    "        if abs(o) % 1 > 0:\n",
    "            return float(o)\n",
    "        else:\n",
    "            return int(o)\n",
    "    return o\n",
    "\n",
    "dynamo = DynamoDB(region_name=DEFAULT_REGION)\n"
   ]
  },
  {
   "cell_type": "code",
   "execution_count": 19,
   "metadata": {},
   "outputs": [
    {
     "data": {
      "text/plain": [
       "144"
      ]
     },
     "execution_count": 19,
     "metadata": {},
     "output_type": "execute_result"
    }
   ],
   "source": [
    "arrivals = (dynamo.db.Table('TrainArrival').query(\n",
    "    KeyConditionExpression=Key('TrainStationKey').eq(KEY_CONSTRAINT),\n",
    "    ProjectionExpression='DifferenceInMinutes'))\n",
    "len(arrivals['Items'])"
   ]
  },
  {
   "cell_type": "code",
   "execution_count": 20,
   "metadata": {},
   "outputs": [
    {
     "data": {
      "text/plain": [
       "[{'StationShortCode': 'TPE',\n",
       "  'ScheduledDate': '2019-05-17',\n",
       "  'TrainStationKey': '45-TPE',\n",
       "  'Type': 'ARRIVAL',\n",
       "  'ActualTime': '2019-05-17T13:12:41.000Z',\n",
       "  'ScheduledTime': '2019-05-17T12:56:00.000Z',\n",
       "  'DifferenceInMinutes': Decimal('17')},\n",
       " {'StationShortCode': 'TPE',\n",
       "  'ScheduledDate': '2019-06-14',\n",
       "  'TrainStationKey': '45-TPE',\n",
       "  'Type': 'ARRIVAL',\n",
       "  'ActualTime': '2019-06-14T13:13:48.000Z',\n",
       "  'ScheduledTime': '2019-06-14T12:56:00.000Z',\n",
       "  'DifferenceInMinutes': Decimal('18')},\n",
       " {'StationShortCode': 'TPE',\n",
       "  'ScheduledDate': '2019-07-01',\n",
       "  'TrainStationKey': '45-TPE',\n",
       "  'Type': 'ARRIVAL',\n",
       "  'ActualTime': '2019-07-01T13:15:28.000Z',\n",
       "  'ScheduledTime': '2019-07-01T12:56:00.000Z',\n",
       "  'DifferenceInMinutes': Decimal('19')},\n",
       " {'StationShortCode': 'TPE',\n",
       "  'ScheduledDate': '2019-06-17',\n",
       "  'TrainStationKey': '45-TPE',\n",
       "  'Type': 'ARRIVAL',\n",
       "  'ActualTime': '2019-06-17T13:23:40.000Z',\n",
       "  'ScheduledTime': '2019-06-17T12:56:00.000Z',\n",
       "  'DifferenceInMinutes': Decimal('28')},\n",
       " {'StationShortCode': 'TPE',\n",
       "  'ScheduledDate': '2019-03-21',\n",
       "  'TrainStationKey': '45-TPE',\n",
       "  'Type': 'ARRIVAL',\n",
       "  'ActualTime': '2019-03-21T14:23:58.000Z',\n",
       "  'ScheduledTime': '2019-03-21T13:56:00.000Z',\n",
       "  'DifferenceInMinutes': Decimal('28')},\n",
       " {'StationShortCode': 'TPE',\n",
       "  'ScheduledDate': '2019-08-23',\n",
       "  'TrainStationKey': '45-TPE',\n",
       "  'Type': 'ARRIVAL',\n",
       "  'ActualTime': '2019-08-23T13:29:58.000Z',\n",
       "  'ScheduledTime': '2019-08-23T12:56:00.000Z',\n",
       "  'DifferenceInMinutes': Decimal('34')}]"
      ]
     },
     "execution_count": 20,
     "metadata": {},
     "output_type": "execute_result"
    }
   ],
   "source": [
    "late_arrivals=(dynamo.db.Table('TrainArrival').\n",
    "               query(IndexName='TrainArrivalDifferenceIndex',\n",
    "                    KeyConditionExpression=Key('TrainStationKey').eq(KEY_CONSTRAINT) & \n",
    "                                           Key('DifferenceInMinutes').gt(15)))\n",
    "late_arrivals['Items']"
   ]
  },
  {
   "cell_type": "code",
   "execution_count": 18,
   "metadata": {},
   "outputs": [
    {
     "data": {
      "text/html": [
       "<div>\n",
       "<style scoped>\n",
       "    .dataframe tbody tr th:only-of-type {\n",
       "        vertical-align: middle;\n",
       "    }\n",
       "\n",
       "    .dataframe tbody tr th {\n",
       "        vertical-align: top;\n",
       "    }\n",
       "\n",
       "    .dataframe thead th {\n",
       "        text-align: right;\n",
       "    }\n",
       "</style>\n",
       "<table border=\"1\" class=\"dataframe\">\n",
       "  <thead>\n",
       "    <tr style=\"text-align: right;\">\n",
       "      <th></th>\n",
       "      <th>DifferenceInMinutes</th>\n",
       "    </tr>\n",
       "  </thead>\n",
       "  <tbody>\n",
       "    <tr>\n",
       "      <td>0</td>\n",
       "      <td>2</td>\n",
       "    </tr>\n",
       "    <tr>\n",
       "      <td>1</td>\n",
       "      <td>18</td>\n",
       "    </tr>\n",
       "    <tr>\n",
       "      <td>2</td>\n",
       "      <td>2</td>\n",
       "    </tr>\n",
       "    <tr>\n",
       "      <td>3</td>\n",
       "      <td>9</td>\n",
       "    </tr>\n",
       "    <tr>\n",
       "      <td>4</td>\n",
       "      <td>12</td>\n",
       "    </tr>\n",
       "  </tbody>\n",
       "</table>\n",
       "</div>"
      ],
      "text/plain": [
       "   DifferenceInMinutes\n",
       "0                    2\n",
       "1                   18\n",
       "2                    2\n",
       "3                    9\n",
       "4                   12"
      ]
     },
     "execution_count": 18,
     "metadata": {},
     "output_type": "execute_result"
    }
   ],
   "source": [
    "import pandas as pd\n",
    "\n",
    "df = pd.DataFrame(arrivals)\n",
    "df = df.applymap(lambda x: deserialize(x))\n",
    "\n",
    "df.head()"
   ]
  },
  {
   "cell_type": "code",
   "execution_count": 20,
   "metadata": {},
   "outputs": [
    {
     "data": {
      "text/plain": [
       "<Figure size 1800x720 with 0 Axes>"
      ]
     },
     "metadata": {},
     "output_type": "display_data"
    },
    {
     "data": {
      "image/png": "[encoded data removed]",
      "text/plain": [
       "<Figure size 1800x720 with 1 Axes>"
      ]
     },
     "metadata": {
      "needs_background": "light"
     },
     "output_type": "display_data"
    }
   ],
   "source": [
    "import matplotlib.pyplot as plt\n",
    "from pandas import Series\n",
    "\n",
    "plt.rcParams['figure.figsize'] = [25, 10]\n",
    "plt.figure();\n",
    "df.columns = ['train']\n",
    "ax = df.plot(kind='bar')\n",
    "pd.DataFrame(Series([float(df.mean())]*len(df)), columns=['mean']).plot(ax=ax)\n",
    "pd.DataFrame(Series([float(df.median())]*len(df)), columns=['median']).plot(ax=ax)\n",
    "pd.DataFrame(Series([float(df.std())]*len(df)), columns=['std']).plot(ax=ax)\n",
    "plt.ylim(int(df.min()),50)\n",
    "plt.title('Arrival time variation')\n",
    "plt.ylabel('Difference in Minutes')\n",
    "ax.get_xaxis().set_visible(False)\n",
    "plt.show()"
   ]
  },
  {
   "cell_type": "code",
   "execution_count": null,
   "metadata": {},
   "outputs": [],
   "source": []
  }
 ],
 "metadata": {
  "kernelspec": {
   "display_name": "Python 3",
   "language": "python",
   "name": "python3"
  },
  "language_info": {
   "codemirror_mode": {
    "name": "ipython",
    "version": 3
   },
   "file_extension": ".py",
   "mimetype": "text/x-python",
   "name": "python",
   "nbconvert_exporter": "python",
   "pygments_lexer": "ipython3",
   "version": "3.7.4"
  }
 },
 "nbformat": 4,
 "nbformat_minor": 4
}
